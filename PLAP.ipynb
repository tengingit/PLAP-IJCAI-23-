{
 "cells": [
  {
   "attachments": {},
   "cell_type": "markdown",
   "id": "e2ac7b12",
   "metadata": {},
   "source": [
    "## PLAP\n",
    "This is an implementation of the paper\n",
    "Teng Huang, Bin-Bin Jia, Min-Ling Zhang. Progressive Label Propagation for Semi-Supervised Multi-Dimensional Classification. In: Proceedings of the 32th International Joint Conference on Artificial Intelligence (IJCAI'23), Macao, China.\n",
    "***\n",
    "\n",
    "### Requirement\n",
    "- python == 3.10\n",
    "- numpy == 1.21.5\n",
    "- scikit-learn == 1.1.1\n",
    "- scipy == 1.7.3\n",
    "***\n",
    "\n",
    "### Run\n",
    "- Please make sure that you have installed numpy and sklearn package.\n",
    "Possible commands: **conda install numpy** and **conda install scikit-learn**.\n",
    "\n",
    "- Run all cells above **'Test'** for function definition.\n",
    "- Run the first cell below **'Test'** for load data sets. Feel free to change data sets.\n",
    "- Run the last cell for hamming score, exact match and sub-exact match obtained by **PLAP** method in *Song* data set with default parameter setting."
   ]
  },
  {
   "cell_type": "code",
   "execution_count": 1,
   "id": "f08b601f",
   "metadata": {
    "id": "f08b601f"
   },
   "outputs": [],
   "source": [
    "import numpy as np\n",
    "from sklearn.metrics.pairwise import euclidean_distances\n",
    "import scipy.io as scio"
   ]
  },
  {
   "cell_type": "markdown",
   "id": "5f975bdf",
   "metadata": {
    "id": "5f975bdf"
   },
   "source": [
    "Create SSL Dataset"
   ]
  },
  {
   "cell_type": "code",
   "execution_count": 2,
   "id": "7d8e9e41",
   "metadata": {},
   "outputs": [],
   "source": [
    "def findFeasiableSet(X,Y):\n",
    "    '''\n",
    "    Find distinct indexes of examples which the corresponding union of label sets contains all labels.\n",
    "    Input: \n",
    "    X: feature matrix.\n",
    "    Y: label matrix.\n",
    "    \n",
    "    Output:\n",
    "    A list of indexes.\n",
    "    '''\n",
    "    num_training = len(X)              #number of training examples\n",
    "    num_dim = Y.shape[1]               #number of dimensions\n",
    "    fea_set = []\n",
    "\n",
    "    for dim in range(num_dim):\n",
    "        labelset = list(set(Y[:,dim]))         \n",
    "        for j in range(len(labelset)):\n",
    "            for i in range(num_training):\n",
    "                if Y[i][dim] == labelset[j]:\n",
    "                    fea_set.append(i)\n",
    "                    break\n",
    "                \n",
    "    return list(set(fea_set))"
   ]
  },
  {
   "cell_type": "code",
   "execution_count": 3,
   "id": "2269a1c5",
   "metadata": {
    "id": "2269a1c5"
   },
   "outputs": [],
   "source": [
    "def createSSLData(X, Y, num_labeled,seed):   \n",
    "    '''\n",
    "    Create semi-supervised learning data set.\n",
    "    Input:\n",
    "    X: feature matrix with shape (m,d)\n",
    "    Y: label matrix with shape (m,q)\n",
    "    num_labeled: number of examples with known labels.\n",
    "    seed: a seed for randomly shuffled data set in order to create different ssl data sets.\n",
    "    \n",
    "    Output:\n",
    "    X: original feature matrix.\n",
    "    Y: original label matrix.\n",
    "    Y_ssl: generated semi-supervised learning label matrix.\n",
    "    unlabeled_index: an ndarray of indexes of generated unlabeled samples.\n",
    "    '''\n",
    "    num_training = len(X)              #number of training examples\n",
    "    fea_set = np.array(findFeasiableSet(X,Y))\n",
    "    rng = np.random.RandomState(seed)\n",
    "    index = np.arange(len(fea_set),num_training)\n",
    "    rng.shuffle(index)\n",
    "    index = np.hstack((fea_set,index))\n",
    "    X = X[index]\n",
    "    Y = Y[index]\n",
    "    \n",
    "    unlabeled_index = np.arange(num_labeled,num_training)\n",
    "    Y_ssl = np.copy(Y)\n",
    "    Y_ssl[unlabeled_index] = -1        #-1 reprents this sample is not labeled.\n",
    "    \n",
    "    return X,Y,Y_ssl,unlabeled_index"
   ]
  },
  {
   "cell_type": "code",
   "execution_count": 4,
   "id": "702a1ddf",
   "metadata": {},
   "outputs": [],
   "source": [
    "def getLabelNum(Y):\n",
    "    '''\n",
    "    Get the number of labels occured in label set w.r.t. each dimension.\n",
    "    Input:\n",
    "    Y: label matrix\n",
    "    \n",
    "    Output:\n",
    "    an ndarray of which each element is the number of labels w.r.t. corresponding dimension.\n",
    "    '''\n",
    "    num_dim = Y.shape[1]               #number of dimensions\n",
    "    labelnum = []\n",
    "    for i in range(num_dim):\n",
    "        num = len(set(Y[:,i]))         #number of different labels in each dimension\n",
    "        labelnum.append(num)\n",
    "        \n",
    "    return np.array(labelnum)          #output: array style\n",
    "\n",
    "\n",
    "def findSeeds(X,Y,num_labeled,num_seed):\n",
    "    '''\n",
    "    Find seeds which are able to be used for generating available data sets for semi-supervised learning, i.e., all labels occured in data sets should occur in training sets.\n",
    "    Input:\n",
    "    X: feature matrix with shape (m,d)\n",
    "    Y: label matrix with shape (m,q)\n",
    "    num_seed: number of seed needed. \n",
    "\n",
    "    Output:\n",
    "    a list of available seeds\n",
    "    '''\n",
    "    seed_list = []\n",
    "    sed = 0\n",
    "    count = 0                           #number of appropriate seed \n",
    "    while count < num_seed:\n",
    "        X,Y,Y_ssl,_ = createSSLData(X,Y,num_labeled=num_labeled,seed=sed)\n",
    "        if (getLabelNum(Y) == getLabelNum(Y_ssl)-1).all():    #there is an extra label '-1' in Y_ssl\n",
    "            count += 1\n",
    "            seed_list.append(sed)\n",
    "        sed += 1\n",
    "    \n",
    "    return seed_list"
   ]
  },
  {
   "cell_type": "markdown",
   "id": "ef42b81a",
   "metadata": {
    "id": "ef42b81a"
   },
   "source": [
    "Step 1: Construct the label matrix $Y$"
   ]
  },
  {
   "cell_type": "code",
   "execution_count": 5,
   "id": "3f7c99ae",
   "metadata": {
    "id": "3f7c99ae"
   },
   "outputs": [],
   "source": [
    "def getLabelMatrix(Y_ssl):\n",
    "    '''\n",
    "    Convert the ssl label matrix with real-valued elements into label matrix with binary elements.\n",
    "    Input: \n",
    "    Y_ssl: ssl label set containing 1 or more dimensions.\n",
    "    \n",
    "    Output: label matrix corresponding to input label set.\n",
    "    For multiple dimensions, output consists of different label matrixes stacked in 'diagonal blocks' (not used in fact).\n",
    "    '''\n",
    "    num_training = Y_ssl.shape[0]        #number of training examples\n",
    "    num_dim = Y_ssl.shape[1]             #number of dimensions(class variables)\n",
    "    label_per_dim = {}                   #class labels in each dimension\n",
    "    num_per_dim = np.zeros((num_dim,1),dtype = int)  #number of class labels in each dimension\n",
    "\n",
    "    for dim in range(num_dim):\n",
    "        labelset = set(Y_ssl[:,dim])\n",
    "        labelset.discard(-1)            #'-1' is not an actual label\n",
    "        labelset.discard(0)\n",
    "        label_per_dim[dim] = list(labelset)\n",
    "        num_per_dim[dim] = len(label_per_dim[dim])\n",
    "\n",
    "    for dim in range(num_dim):\n",
    "        Y = np.zeros((num_training,int(num_per_dim[dim])))\n",
    "        for p in range(num_training):\n",
    "            for i in range(int(num_per_dim[dim])):\n",
    "                if Y_ssl[p][dim] == label_per_dim[dim][i]:\n",
    "                    Y[p][i] = 1\n",
    "        if dim == 0:\n",
    "            Labelmatrix = Y\n",
    "        else:\n",
    "            Labelmatrix = np.block([\n",
    "                [Labelmatrix,np.zeros((Labelmatrix.shape[0],int(num_per_dim[dim])))],\n",
    "                [np.zeros((num_training,Labelmatrix.shape[1])),Y]\n",
    "                ])\n",
    "            \n",
    "    return Labelmatrix"
   ]
  },
  {
   "cell_type": "markdown",
   "id": "00310d6a",
   "metadata": {
    "id": "00310d6a"
   },
   "source": [
    "Step 2: Construct the distance matrix $W$"
   ]
  },
  {
   "cell_type": "code",
   "execution_count": 6,
   "id": "524f0977",
   "metadata": {
    "id": "524f0977"
   },
   "outputs": [],
   "source": [
    "def getDistanceMatrix(X,max_mat_elements=1000*1000):\n",
    "    '''\n",
    "    Compute distance matrix with euclidean distances between samples.\n",
    "    Input: \n",
    "    X: feature matrix.\n",
    "    max_mat_elements: maximum number of elements in matrixes computing at a time.\n",
    "    \n",
    "    Output:\n",
    "    distance matrix.\n",
    "    '''\n",
    "    num_training = X.shape[0]      #number of training examples\n",
    "    block_size = np.floor(max_mat_elements/num_training) #limit matrix storage to this much distance at a time\n",
    "    num_blocks = np.ceil(num_training/block_size) #the number of times to compute\n",
    "    dm = np.zeros((num_training,num_training))\n",
    "    for iter in range(int(num_blocks)):\n",
    "        low = int(block_size*iter)\n",
    "        if iter == num_blocks:\n",
    "            high = num_training\n",
    "        else:\n",
    "            high = int(block_size*(iter+1))\n",
    "\n",
    "        temp_dm = euclidean_distances(X[low:high],X,squared=True)\n",
    "\n",
    "        dm[low:high] = temp_dm\n",
    "    \n",
    "        \n",
    "    return dm"
   ]
  },
  {
   "cell_type": "markdown",
   "id": "317deb10",
   "metadata": {
    "id": "317deb10"
   },
   "source": [
    "Step 3: Calculate S such as  𝑆=𝐷−1/2𝑊𝐷−1/2"
   ]
  },
  {
   "cell_type": "code",
   "execution_count": 7,
   "id": "8aa7c472",
   "metadata": {
    "id": "8aa7c472"
   },
   "outputs": [],
   "source": [
    "def getSimilarityMatrix(X,dm,n_neighbors=7,gamma=50):\n",
    "    '''\n",
    "    Define similarity matrix by Gaussian function.\n",
    "    Input:\n",
    "    X: feature matrix.\n",
    "    dm: distance matrix.\n",
    "    n_neighbors: number of nearest neighbors.\n",
    "    gamma: parameter rbf kernel.\n",
    "    \n",
    "    Output:\n",
    "    similarity matrix.\n",
    "    '''\n",
    "    num_feature = X.shape[1]\n",
    "    if gamma is None:\n",
    "        gamma = 1.0 / num_feature\n",
    "    W = np.exp(-gamma*dm)\n",
    "    np.fill_diagonal(W, 0)\n",
    "        \n",
    "    d = np.sum(W, axis=1)\n",
    "    D = np.sqrt(d*d[:, np.newaxis])\n",
    "    return np.divide(W,D,where=D!=0)"
   ]
  },
  {
   "cell_type": "markdown",
   "id": "ad4851c5",
   "metadata": {
    "id": "ad4851c5"
   },
   "source": [
    "Step 4: Construct the P matrix $P$"
   ]
  },
  {
   "cell_type": "code",
   "execution_count": 8,
   "id": "3d363045",
   "metadata": {
    "id": "3d363045"
   },
   "outputs": [],
   "source": [
    "def getPMatrix(Y_ssl,dm,unlabeled_index,n_neighbors):\n",
    "    '''\n",
    "    Statistics counted in neighborhood.\n",
    "    Y_ssl: ssl label matrix.\n",
    "    dm: distance matrix.\n",
    "    unlabeled_index: indexes of unlabeled samples.\n",
    "    n_neighbors: number of nearest neighbors.\n",
    "    \n",
    "    Output:\n",
    "    a matrix which storages probability distribution of class labels within neighborhood.\n",
    "    '''\n",
    "    num_training = Y_ssl.shape[0]           #number of training examples\n",
    "    num_dim = Y_ssl.shape[1]            #number of dimensions(class variables)\n",
    "    label_per_dim = {}                  #class labels in each dimension\n",
    "    num_per_dim = np.zeros((num_dim,1),dtype = int)  #number of class labels in each dimension\n",
    "    for dim in range(num_dim):\n",
    "        labelset = set(Y_ssl[:,dim])\n",
    "        labelset.discard(-1)\n",
    "        labelset.discard(0)\n",
    "        label_per_dim[dim] = list(labelset)\n",
    "        num_per_dim[dim] = len(label_per_dim[dim])\n",
    "        \n",
    "    np.fill_diagonal(dm,float(\"inf\"))      #distance between instance and itself should be set as positive infinity\n",
    "    labeled_index = np.arange(unlabeled_index[0])\n",
    "    dm = dm[:, labeled_index]              #distance between unseen instance and training examples\n",
    "    index_sorted = np.argsort(dm,axis=1) \n",
    "    \n",
    "    if labeled_index.shape[0] < n_neighbors:\n",
    "        n_neighbors = labeled_index.shape[0]\n",
    "    neighbors = index_sorted[:,:n_neighbors]\n",
    "    \n",
    "    for dim in range(num_dim):\n",
    "        P = np.zeros((num_training,int(num_per_dim[dim])))\n",
    "        for i in range(num_training):\n",
    "            for nei in neighbors[i]:\n",
    "                for j in range(int(num_per_dim[dim])):\n",
    "                    if Y_ssl[nei][dim] == label_per_dim[dim][j]:\n",
    "                        P[i][j] += 1\n",
    "        norms = np.linalg.norm(P, axis=1)      #normalization\n",
    "        \n",
    "        P = (P.T/norms).T\n",
    "\n",
    "        if dim == 0:\n",
    "            Pmatrix = P\n",
    "        else:\n",
    "            Pmatrix = np.block([\n",
    "            [Pmatrix,np.zeros((Pmatrix.shape[0],int(num_per_dim[dim])))],\n",
    "            [np.zeros((num_training,Pmatrix.shape[1])),P]\n",
    "            ])\n",
    "    \n",
    "\n",
    "    return Pmatrix"
   ]
  },
  {
   "cell_type": "markdown",
   "id": "a972c739",
   "metadata": {},
   "source": [
    "Step 5: Update the progressive label matrix "
   ]
  },
  {
   "cell_type": "code",
   "execution_count": 9,
   "id": "d072f628",
   "metadata": {
    "id": "d072f628"
   },
   "outputs": [],
   "source": [
    "def getLabelMatrix_in_chain(Y_ssl,dm,label_per_dim,num_per_dim,unlabeled_index,current_dim,F_pre,n_neighbors):\n",
    "    '''\n",
    "    Get label matrix for dimensions subsequent to the first one.\n",
    "    Input:\n",
    "    Y_ssl: ssl label matrix.\n",
    "    dm: distance matrix.\n",
    "    label_per_dim: label set w.r.t. each dimention.\n",
    "    num_per_dim: number of distinct labels in each dimention.\n",
    "    unlabeled_index: indexes of unlabeled samples.\n",
    "    current_dim: current dimension.\n",
    "    F_pre: label matrix to be updated.\n",
    "    n_neighbors: number of neighbors defined.\n",
    "    \n",
    "    Output: \n",
    "    a new label matrix.\n",
    "    a mapping from previous matrix to current matrix.\n",
    "    '''\n",
    "    num_training = Y_ssl.shape[0]        #number of training examples\n",
    "    # num_dim = Y_ssl.shape[1]             #number of dimensions(class variables)\n",
    "    num_comb = F_pre.shape[1]            #number of combinations of label values from different dimensions that we already had\n",
    "    num_current_dim = int(num_per_dim[current_dim]) #number of class labels in current dimension\n",
    "    \n",
    "    F = np.zeros((num_training,num_comb*num_current_dim))\n",
    "    P = getPMatrix(Y_ssl[:,current_dim].reshape(-1,1),dm,unlabeled_index,n_neighbors=n_neighbors)\n",
    "    mapping = np.arange(num_current_dim*num_comb).reshape(num_comb,num_current_dim)   #mapping from previous matrix to next matrix\n",
    "    \n",
    "    for p in range(num_training):\n",
    "        if p not in unlabeled_index:     #training examples with labels\n",
    "            for i in range(num_comb):    #0,1,…,k1-1\n",
    "                for j in range (num_current_dim):  #0,1,…,k2-1\n",
    "                    if F_pre[p][i] == 1 and Y_ssl[p][current_dim] == label_per_dim[current_dim][j]:\n",
    "                        F[p][i*num_current_dim+j] = 1\n",
    "                        \n",
    "        elif p in unlabeled_index:       #training examples without labels\n",
    "            for i in range(num_comb):    #0,1,…,k1-1\n",
    "                for j in range (num_current_dim):  #0,1,…,k2-1\n",
    "                    if F_pre[p][i] == 1:\n",
    "                        F[p][i*num_current_dim+j] = P[p][j]\n",
    "    \n",
    "    return F,mapping"
   ]
  },
  {
   "attachments": {},
   "cell_type": "markdown",
   "id": "f544684f",
   "metadata": {},
   "source": [
    "Step 6: Iterate label matrix until it converges"
   ]
  },
  {
   "cell_type": "code",
   "execution_count": 10,
   "id": "8bc3ab05",
   "metadata": {},
   "outputs": [],
   "source": [
    "def propagation(Labelmatrix,Simmatrix,unlabeled_index,alpha = 0.99,max_iter = 1000,tol = 0.001):\n",
    "    '''\n",
    "    Label propagation for any label matrix.\n",
    "    Input:\n",
    "    Labelmatrix: label matrix needed to iteratively update.\n",
    "    Simmatrix: simmilarity matrix.\n",
    "    unlabeled_index: indexes of unlabeled samples.\n",
    "    alpha: trade-off parameter.\n",
    "    max_iter: maximum number of iteration.\n",
    "    tol: convergence tolerance: threshold to consider the system at steady state.\n",
    "    \n",
    "    Output:\n",
    "    result matrix.\n",
    "    '''\n",
    "    # num_training = Labelmatrix.shape[0]           #number of training examples\n",
    "    labeled_index = np.arange(unlabeled_index[0]) \n",
    "    #The first iteration\n",
    "    F = alpha*np.dot(Simmatrix, Labelmatrix) + (1-alpha)*Labelmatrix\n",
    "    changed = np.abs(F-Labelmatrix).sum()\n",
    "    \n",
    "    for iter_num in range(max_iter):\n",
    "        if changed < tol:\n",
    "            break\n",
    "            \n",
    "        pre_F = F\n",
    "\n",
    "        # propagation\n",
    "        F = alpha*np.dot(Simmatrix, F) + (1-alpha)*Labelmatrix\n",
    "\n",
    "        # check converge\n",
    "        changed = np.abs(pre_F - F).sum() \n",
    "        \n",
    "    if iter_num == max_iter and changed > tol:\n",
    "        print('ConvergenceWarning')\n",
    "    \n",
    "    Labelmat_result = np.zeros_like(F)\n",
    "    Labelmat_result[np.arange(len(F)), F.argmax(1)] = 1\n",
    "    Labelmat_result[labeled_index] = Labelmatrix[labeled_index]\n",
    "    \n",
    "    return Labelmat_result"
   ]
  },
  {
   "cell_type": "markdown",
   "id": "b32c659a",
   "metadata": {
    "id": "b32c659a"
   },
   "source": [
    "Evalution metrics:"
   ]
  },
  {
   "cell_type": "code",
   "execution_count": 11,
   "id": "77140325",
   "metadata": {
    "id": "77140325"
   },
   "outputs": [],
   "source": [
    "def eva(Y,Y_result):\n",
    "    '''\n",
    "    Evaluations for MDC.\n",
    "    '''\n",
    "    num_testing = Y.shape[0]                     #number of training examples\n",
    "    num_dim = Y.shape[1]                          #number of dimensions(class variables)\n",
    "    num_correctdim = np.sum(Y == Y_result,axis=1)  #number of correct dimmensions for each example\n",
    "        \n",
    "    #Hamming Score(or Class Accuracy)\n",
    "    HammingScore = np.sum(num_correctdim)/(num_dim*num_testing)    \n",
    "    \n",
    "    #Exact Match(or Example Accuracy or Subset Accuracy)\n",
    "    ExactMatch = np.sum(num_correctdim == num_dim)/num_testing\n",
    "    \n",
    "    #Sub-ExactMatch    \n",
    "    SubExactMatch = np.sum(num_correctdim >= num_dim-1)/num_testing\n",
    "\n",
    "    return HammingScore,ExactMatch,SubExactMatch"
   ]
  },
  {
   "cell_type": "code",
   "execution_count": 12,
   "id": "352b72bc",
   "metadata": {
    "id": "352b72bc"
   },
   "outputs": [],
   "source": [
    "def getResult_LGC(Y_ssl,Labelmat_result):\n",
    "    '''\n",
    "    Convert the label matrix w.r.t. single dimension with binary elements into result matrix with real-valued elements.\n",
    "    '''\n",
    "    num_testing = Y_ssl.shape[0]                      #number of training examples\n",
    "    num_dim = Y_ssl.shape[1]                          #number of dimensions(class variables)\n",
    "    label_per_dim = {}                                #class labels in each dimension\n",
    "    num_per_dim = np.zeros((num_dim,1),dtype = int)   #number of class labels in each dimension\n",
    "    \n",
    "    count = 0\n",
    "    num_dict = {}                                     #dict for accumulating vertical axis\n",
    "    Y_result = np.zeros_like(Y_ssl)\n",
    "    \n",
    "    for dim in range(num_dim):\n",
    "        labelset = set(Y_ssl[:,dim])\n",
    "        labelset.discard(-1)            #'-1' is not a label\n",
    "        labelset.discard(0)\n",
    "        label_per_dim[dim] = list(labelset)\n",
    "        num_per_dim[dim] = len(label_per_dim[dim])\n",
    "        \n",
    "    for dim in range(num_dim):\n",
    "        num_dict[dim] = count\n",
    "        count += int(num_per_dim[dim])\n",
    "        \n",
    "\n",
    "    for dim in range(num_dim):\n",
    "        for i in range(num_testing):\n",
    "            for j in range(int(num_per_dim[dim])):\n",
    "                hori = dim*num_testing + i             #abscissa\n",
    "                vert = num_dict[dim] + j               #ordinate\n",
    "                if Labelmat_result[hori][vert] == 1:\n",
    "                    Y_result[i][dim] = label_per_dim[dim][j]\n",
    "                     \n",
    "    return Y_result    "
   ]
  },
  {
   "cell_type": "code",
   "execution_count": 13,
   "id": "2f95aee6",
   "metadata": {
    "id": "2f95aee6"
   },
   "outputs": [],
   "source": [
    "def getResult(label_per_dim,current_dim,Labelmat_result,mapping_chain):\n",
    "    '''\n",
    "    Get predicted labels from Labelmat_result matrix.\n",
    "    Input:\n",
    "    label_per_dim: label set w.r.t. each dimention.\n",
    "    current_dim: current dimension considered.\n",
    "    Labelmat_result: result matrix obtained from label propagation.\n",
    "    mapping_chain: indexes mapping from previous matrix to current matrix.\n",
    "    \n",
    "    Output:\n",
    "    result matrix with real number elements.\n",
    "    '''\n",
    "    num_training = Labelmat_result.shape[0]                     #number of training examples\n",
    "    num_comb = Labelmat_result.shape[1]                         #number of combinations of label values from different dimensions\n",
    "    Y_result = np.zeros((num_training,2))\n",
    "  \n",
    "    for i in range(num_training):\n",
    "          for j in range(num_comb):\n",
    "            if Labelmat_result[i][j] == 1:\n",
    "                comb_previous,label_current_dim = np.argwhere(mapping_chain[current_dim]==j)[0]\n",
    "                Y_result[i][1] = label_per_dim[current_dim][label_current_dim]\n",
    "                continue\n",
    "                     \n",
    "    return Y_result    "
   ]
  },
  {
   "cell_type": "code",
   "execution_count": 14,
   "id": "e2c66452",
   "metadata": {
    "id": "e2c66452"
   },
   "outputs": [],
   "source": [
    "def myLP(X,Y,Y_ssl,unlabeled_index,dm,Simmatrix,n_neighbors=7,alpha=0.99,max_iter=1000,tol=0.0001):\n",
    "    '''\n",
    "    PLAP method.\n",
    "    Input:\n",
    "    X: feature matrix.\n",
    "    Y: label matrix.\n",
    "    Y_ssl: ssl label matrix.\n",
    "    unlabeled_index: indexes of unlabeled samples.\n",
    "    dm: distance matrix.\n",
    "    Simmatrix: simmilarity matrix.\n",
    "    n_neighbors: number of nearest neighbors.\n",
    "    alpha: trade-off parameter.\n",
    "    max_iter: maximum number of iteration.\n",
    "    tol: convergence tolerance: threshold to consider the system at steady state.\n",
    "    \n",
    "    Output:\n",
    "    HammingScore,ExactMatch,SubExactMatch\n",
    "    '''\n",
    "    \n",
    "    # num_training = X.shape[0]               #number of training examples\n",
    "    num_dim = Y_ssl.shape[1]               #number of dimensions(class variables)\n",
    "    label_per_dim = {}                  #class labels in each dimension\n",
    "    num_per_dim = np.zeros((num_dim,1),dtype = int)   #number of class labels in each dimension\n",
    "    for dim in range(num_dim):\n",
    "        labelset = set(Y_ssl[:,dim])\n",
    "        labelset.discard(-1)\n",
    "        labelset.discard(0)\n",
    "        label_per_dim[dim] = list(labelset)\n",
    "        #label_per_dim[dim]=[int(i) for i in label_per_dim[dim]]\n",
    "        num_per_dim[dim] = len(label_per_dim[dim])\n",
    "        \n",
    "    mapping_chain = {}    \n",
    "    LabelMatrix = getLabelMatrix(Y_ssl[:,0].reshape(-1,1))   \n",
    "    #Lable propagation procedure on the first dimension.\n",
    "    F = propagation(LabelMatrix,Simmatrix,unlabeled_index,alpha=alpha,max_iter=max_iter,tol=tol)\n",
    "    Y_result = getResult_LGC(Y_ssl[:,0].reshape(-1,1),F)\n",
    "    Y_result_pre = Y_result\n",
    "\n",
    "    #Progressive label propagation \n",
    "    for m in range(1,num_dim):\n",
    "        LabelMatrix,mapping = getLabelMatrix_in_chain(Y_ssl,dm,label_per_dim,num_per_dim,unlabeled_index,current_dim=m,F_pre=F,n_neighbors=n_neighbors)\n",
    "        F = propagation(LabelMatrix,Simmatrix,unlabeled_index,alpha=alpha,max_iter=max_iter,tol=tol)\n",
    "        mapping_chain[m] = mapping\n",
    "        Y_result = getResult(label_per_dim,m,F,mapping_chain)\n",
    "        Y_result = np.hstack([Y_result_pre,Y_result[:,-1].reshape(-1,1)])\n",
    "        Y_result_pre = Y_result\n",
    "\n",
    "        if 2*F.nbytes+dm.nbytes+Simmatrix.nbytes>16e8:                    #memory limit (feel free to enrich it as long as enough memory available)\n",
    "            F = getLabelMatrix(Y_result[:,-1].reshape(-1,1))              #back to one dimension due to the memory limit\n",
    "\n",
    "    HammingScore,ExactMatch,SubExactMatch = eva(Y[:,:m+1][unlabeled_index],Y_result[unlabeled_index])\n",
    "        # print(\"---> For examples with %d dimension(s), HammingScore:%f, ExactMatch:%f, SubExactMatch:%f\" % \\\n",
    "              # (m+1, HammingScore, ExactMatch, SubExactMatch))\n",
    "        \n",
    "    return HammingScore,ExactMatch,SubExactMatch"
   ]
  },
  {
   "attachments": {},
   "cell_type": "markdown",
   "id": "5273e890",
   "metadata": {},
   "source": [
    "## Test "
   ]
  },
  {
   "attachments": {},
   "cell_type": "markdown",
   "id": "038240ec",
   "metadata": {},
   "source": [
    "***\n",
    "#### Default experimental Setting in PLAP\n",
    "- 10 different randomly shuffled data sets are generated according to 10 seeds: seed $\\in$ $\\{0,1,2,\\dots,9\\}$\n",
    "- number of labeled examples: $num\\_ labeled \\in \\{40,50,60\\}$\n",
    "- rbf kernel: $gamma == 50$\n",
    "- number of nearest neighbor: $n\\_ neighbors == 7$\n",
    "- trade-off parameter: $alpha == 0.99$"
   ]
  },
  {
   "attachments": {},
   "cell_type": "markdown",
   "id": "c9a73b81",
   "metadata": {},
   "source": [
    "***\n",
    "An example of PLAP on *Song* data set with 40 labeled examples and seed == 0.\n",
    "\n",
    "The experimental results (mean $\\pm$ std.) presented in formal paper are obtained by setting seed from 0 to 9."
   ]
  },
  {
   "cell_type": "code",
   "execution_count": 15,
   "id": "e906a056",
   "metadata": {},
   "outputs": [],
   "source": [
    "data = scio.loadmat('dataset/Song')\n",
    "X_train = np.array(data['data'][0][0][1])\n",
    "y_train = np.array(data['target'],dtype = float)"
   ]
  },
  {
   "cell_type": "code",
   "execution_count": 16,
   "id": "e7c70031",
   "metadata": {
    "scrolled": true
   },
   "outputs": [
    {
     "name": "stdout",
     "output_type": "stream",
     "text": [
      "Hamming Score == 0.7409395973154362\n",
      "Exact Match == 0.4\n",
      "Sub-Exact Match == 0.836241610738255\n"
     ]
    }
   ],
   "source": [
    "X,Y,Y_ssl,unlabeled_index = createSSLData(X_train,y_train,num_labeled=40,seed=0)\n",
    "dm = getDistanceMatrix(X,max_mat_elements=1000*1000)\n",
    "S = getSimilarityMatrix(X,dm,gamma=50)\n",
    "HammingScore,ExactMatch,SubExactMatch = myLP(X,Y,Y_ssl,unlabeled_index,dm,S,n_neighbors=7,alpha=0.99,max_iter=1000,tol=0.001)\n",
    "print('Hamming Score == '+str(HammingScore))\n",
    "print('Exact Match == '+str(ExactMatch))\n",
    "print('Sub-Exact Match == '+str(SubExactMatch))"
   ]
  }
 ],
 "metadata": {
  "colab": {
   "collapsed_sections": [],
   "name": "myCode-v3.ipynb",
   "provenance": []
  },
  "kernelspec": {
   "display_name": "Python 3 (ipykernel)",
   "language": "python",
   "name": "python3"
  },
  "language_info": {
   "codemirror_mode": {
    "name": "ipython",
    "version": 3
   },
   "file_extension": ".py",
   "mimetype": "text/x-python",
   "name": "python",
   "nbconvert_exporter": "python",
   "pygments_lexer": "ipython3",
   "version": "3.11.3"
  },
  "vscode": {
   "interpreter": {
    "hash": "8c7f31ae5d24d20e413429c6f8680fd3ba8fc43fede63c3b677eac0d98a4f498"
   }
  }
 },
 "nbformat": 4,
 "nbformat_minor": 5
}
